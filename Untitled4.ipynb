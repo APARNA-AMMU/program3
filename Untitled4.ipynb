{
 "cells": [
  {
   "cell_type": "code",
   "execution_count": 2,
   "id": "52a9eb2e",
   "metadata": {},
   "outputs": [
    {
     "name": "stdout",
     "output_type": "stream",
     "text": [
      "False\n"
     ]
    }
   ],
   "source": [
    "#python program to check if two  lista have atleast one element common\n",
    "l1=[12,45,78,40,20]\n",
    "l2=[55,10,30]\n",
    "flag=0\n",
    "for elem in l2:\n",
    "    if elem in l1:\n",
    "        flag=1\n",
    "if(flag==1):\n",
    "    print(\"True\")\n",
    "else:\n",
    "    print(\"False\")"
   ]
  },
  {
   "cell_type": "code",
   "execution_count": 5,
   "id": "77833084",
   "metadata": {},
   "outputs": [
    {
     "name": "stdout",
     "output_type": "stream",
     "text": [
      "Enter the list size: 5\n",
      "Enter the element: 8\n",
      "Enter the element: 14\n",
      "Enter the element: 7\n",
      "Enter the element: 6\n",
      "Enter the element: 12\n",
      "List is:  [8, 14, 7, 6, 12]\n",
      "Second largest element is:  12\n"
     ]
    }
   ],
   "source": [
    "#python program to find second largest number in a list\n",
    "list=[]\n",
    "n=int(input(\"Enter the list size: \"))\n",
    "for i in range(0,n):\n",
    "    item=int(input(\"Enter the element: \"))\n",
    "    list.append(item)\n",
    "print(\"List is: \",list)\n",
    "list.sort()\n",
    "print(\"Second largest element is: \",list[-2])"
   ]
  },
  {
   "cell_type": "code",
   "execution_count": 11,
   "id": "27323c49",
   "metadata": {},
   "outputs": [
    {
     "name": "stdout",
     "output_type": "stream",
     "text": [
      "{'Apple': 'In stock', 'Mango': 'In stock', 'Guava': 'In stock', 'Banana': 'In stock'}\n"
     ]
    }
   ],
   "source": [
    "#python program to convert list to list of dictionaries\n",
    "\n",
    "fruits = [\"Apple\", \"Mango\", \"Guava\", \"Banana\"]\n",
    "fruit_dictionary = { fruit : \"In stock\" for fruit in fruits }\n",
    "print(fruit_dictionary)"
   ]
  },
  {
   "cell_type": "code",
   "execution_count": 10,
   "id": "6360075c",
   "metadata": {},
   "outputs": [
    {
     "name": "stdout",
     "output_type": "stream",
     "text": [
      "Enter the Total Number of List Elements : 5\n",
      "Enter the  Element: -1\n",
      "Enter the  Element: 8\n",
      "Enter the  Element: 4\n",
      "Enter the  Element: -4\n",
      "Enter the  Element: 6\n",
      " List is:  [-1, 8, 4, -4, 6]\n",
      "\n",
      "Element in Positive List is:  [8, 4, 6]\n",
      "Element in Negative List is:  [-1, -4]\n"
     ]
    }
   ],
   "source": [
    "#python program to print positive and negative numbers in a list\n",
    "List = []\n",
    "Positive = []\n",
    "Negative = []\n",
    "Number = int(input(\"Enter the Total Number of List Elements : \"))\n",
    "for i in range(1, Number + 1):\n",
    "    value = int(input(\"Enter the  Element: \"))\n",
    "    List.append(value)\n",
    "print(\" List is: \",List)\n",
    "for j in range(Number):\n",
    "    if(List[j] >= 0):\n",
    "        Positive.append(List[j])\n",
    "    else:\n",
    "        Negative.append(List[j])\n",
    "print(\"\\nElement in Positive List is: \", Positive)\n",
    "print(\"Element in Negative List is: \", Negative)\n"
   ]
  },
  {
   "cell_type": "code",
   "execution_count": 16,
   "id": "307f76bb",
   "metadata": {},
   "outputs": [
    {
     "name": "stdout",
     "output_type": "stream",
     "text": [
      "Count of matching characters are :  3\n"
     ]
    }
   ],
   "source": [
    "#python program to count the number of matching characters in a pair of string\n",
    "s1 = 'mathematics'\n",
    "set1= set(s1)\n",
    "s2= 'aeio'\n",
    "set2= set(s2)\n",
    "common_chars = set1&set2\n",
    "print(\"Count of matching characters are : \",len(common_chars))"
   ]
  },
  {
   "cell_type": "code",
   "execution_count": 19,
   "id": "d763f3ce",
   "metadata": {},
   "outputs": [
    {
     "name": "stdout",
     "output_type": "stream",
     "text": [
      "10,990.00\n"
     ]
    }
   ],
   "source": [
    "#python program to swap commas and dots in a string\n",
    "price = \"10.990,00\"\n",
    "price = price.replace(',','.',1)\n",
    "price = price.replace('.',',',1)\n",
    "print(price)"
   ]
  },
  {
   "cell_type": "code",
   "execution_count": 20,
   "id": "bf7eef35",
   "metadata": {},
   "outputs": [
    {
     "name": "stdout",
     "output_type": "stream",
     "text": [
      "[1, 2, 3, 4, 5, 6]\n",
      "[(1, 2), (2, 1), (3, 4), (4, 3), (5, 6), (6, 5)]\n"
     ]
    }
   ],
   "source": [
    "#python program to sort python dictionaries by key or value\n",
    "a = {1:2 ,2:1 ,4:3 ,3:4 ,6:5 ,5:6 }\n",
    "print(sorted(a.keys()))\n",
    "print(sorted(a.items()))"
   ]
  },
  {
   "cell_type": "code",
   "execution_count": 24,
   "id": "4c9a6d8f",
   "metadata": {},
   "outputs": [
    {
     "name": "stdout",
     "output_type": "stream",
     "text": [
      "sentence is:  Red bulb blue bulb\n",
      "After removing duplication:  Red bulb blue\n"
     ]
    }
   ],
   "source": [
    "#python program to remove all duplicates words from a given sentence\n",
    "def unique_list(l):\n",
    "    ulist = []\n",
    "    [ulist.append(x) for x in l if x not in ulist]\n",
    "    return ulist\n",
    "\n",
    "a=\"Red bulb blue bulb\"\n",
    "print(\"sentence is: \",a)\n",
    "a=' '.join(unique_list(a.split()))\n",
    "print(\"After removing duplication: \",a)"
   ]
  },
  {
   "cell_type": "code",
   "execution_count": 43,
   "id": "b6aa78f8",
   "metadata": {},
   "outputs": [
    {
     "name": "stdout",
     "output_type": "stream",
     "text": [
      "1 2 3 4 5 6 7 \n",
      " 2 3 4 5 6 7 \n",
      "  3 4 5 6 7 \n",
      "   4 5 6 7 \n",
      "    5 6 7 \n",
      "     6 7 \n",
      "      7 \n",
      "     6 7 \n",
      "    5 6 7 \n",
      "   4 5 6 7 \n",
      "  3 4 5 6 7 \n",
      " 2 3 4 5 6 7 \n",
      "1 2 3 4 5 6 7 \n"
     ]
    }
   ],
   "source": [
    "#python program to print hourglass pattern\n",
    "def pattern(rows_no):\n",
    "    for i in range(1, rows_no + 1):\n",
    "        for k in range(1, i):\n",
    "            print(\" \", end = \"\")\n",
    "        for j in range(i, rows_no + 1):\n",
    "            print(j, end = \" \")\n",
    "        print()\n",
    "    for i in range(rows_no - 1, 0, -1):\n",
    "        for k in range(1, i):\n",
    "            print(\" \", end = \"\")\n",
    "        for j in range(i, rows_no + 1):\n",
    "            print(j, end = \" \")\n",
    "        print()\n",
    "rows_no = 7\n",
    "pattern(rows_no)"
   ]
  },
  {
   "cell_type": "code",
   "execution_count": 41,
   "id": "178ad407",
   "metadata": {},
   "outputs": [
    {
     "name": "stdout",
     "output_type": "stream",
     "text": [
      "Enter the number of rows: 4\n",
      "      * \n",
      "     * * \n",
      "    * * * \n",
      "   * * * * \n",
      "  * * * * * \n",
      "   * * * * \n",
      "    * * * \n",
      "     * * \n",
      "      * \n"
     ]
    }
   ],
   "source": [
    "rows = int(input(\"Enter the number of rows: \"))    \n",
    "k = 2 * rows - 2   \n",
    "for i in range(0, rows):  \n",
    "    for j in range(0, k):  \n",
    "        print(end=\" \")    \n",
    "    k = k - 1    \n",
    "    for j in range(0, i + 1):  \n",
    "        print(\"* \", end=\"\")  \n",
    "    print(\"\")  \n",
    "k = rows - 2   \n",
    "for i in range(rows, -1, -1):   \n",
    "    for j in range(k, 0, -1):  \n",
    "        print(end=\" \")  \n",
    "    k = k + 1    \n",
    "    for j in range(0, i + 1):  \n",
    "        print(\"* \", end=\"\")  \n",
    "    print(\"\")  "
   ]
  }
 ],
 "metadata": {
  "kernelspec": {
   "display_name": "Python 3",
   "language": "python",
   "name": "python3"
  },
  "language_info": {
   "codemirror_mode": {
    "name": "ipython",
    "version": 3
   },
   "file_extension": ".py",
   "mimetype": "text/x-python",
   "name": "python",
   "nbconvert_exporter": "python",
   "pygments_lexer": "ipython3",
   "version": "3.8.8"
  }
 },
 "nbformat": 4,
 "nbformat_minor": 5
}
