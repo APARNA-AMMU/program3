{
 "cells": [
  {
   "cell_type": "code",
   "execution_count": 6,
   "id": "01342dd9",
   "metadata": {},
   "outputs": [
    {
     "name": "stdout",
     "output_type": "stream",
     "text": [
      "Enter the number 78456\n",
      "The number of digits in the number is  5\n"
     ]
    }
   ],
   "source": [
    "#python program to count the number of digits in a number\n",
    "num=input(\"Enter the number \")\n",
    "a=len(num)\n",
    "print(\"The number of digits in the number is \",str(a))"
   ]
  },
  {
   "cell_type": "code",
   "execution_count": 12,
   "id": "b67353dc",
   "metadata": {},
   "outputs": [
    {
     "name": "stdout",
     "output_type": "stream",
     "text": [
      "Enter the number: 45\n",
      "The number is not a Perfect number\n"
     ]
    }
   ],
   "source": [
    "#python program to check if a number is a perfect number\n",
    "num = int(input(\"Enter the number: \"))\n",
    "sum=0\n",
    "for i in range(1, num):\n",
    "    if(num % i == 0):\n",
    "        sum=sum+i\n",
    "if (sum == num):\n",
    "    print(\"The number is a Perfect number\")\n",
    "else:\n",
    "    print(\"The number is not a Perfect number\")"
   ]
  },
  {
   "cell_type": "code",
   "execution_count": 15,
   "id": "9cfc412e",
   "metadata": {},
   "outputs": [
    {
     "name": "stdout",
     "output_type": "stream",
     "text": [
      "Enter the value: 10\n",
      "sum of the first n natural numbers is  55\n"
     ]
    }
   ],
   "source": [
    "#python program to find the sum of first N natural numbers\n",
    "n=int(input(\"Enter the value: \"))\n",
    "sum=0\n",
    "while(n>0):\n",
    "    sum=sum+n\n",
    "    n=n-1\n",
    "print(\"sum of the first n natural numbers is \",sum)"
   ]
  },
  {
   "cell_type": "code",
   "execution_count": 17,
   "id": "066b85fc",
   "metadata": {},
   "outputs": [
    {
     "name": "stdout",
     "output_type": "stream",
     "text": [
      "[1, 3, 5]\n"
     ]
    }
   ],
   "source": [
    "#python program to find the intersection of two lists\n",
    "list1=[1,2,3,4,5]\n",
    "list2=[5,6,1,3]\n",
    "s1=set(list1)\n",
    "s2=set(list2)\n",
    "intersection_set=set.intersection(s1,s2)\n",
    "intersection_list=list(intersection_set)\n",
    "print(intersection_list)\n"
   ]
  },
  {
   "cell_type": "code",
   "execution_count": 18,
   "id": "8b4bffc9",
   "metadata": {},
   "outputs": [
    {
     "name": "stdout",
     "output_type": "stream",
     "text": [
      "Enter string:hello everybody\n",
      "Enter word:every\n",
      "Substring in string\n"
     ]
    }
   ],
   "source": [
    "#python program to check if a substring is present in a given string\n",
    "string=input(\"Enter string:\")\n",
    "sub_str=input(\"Enter word:\")\n",
    "if(string.find(sub_str)==-1):\n",
    "      print(\"Substring not found in string\")\n",
    "else:\n",
    "      print(\"Substring in string\")"
   ]
  },
  {
   "cell_type": "code",
   "execution_count": null,
   "id": "c62b3ef6",
   "metadata": {},
   "outputs": [],
   "source": []
  }
 ],
 "metadata": {
  "kernelspec": {
   "display_name": "Python 3",
   "language": "python",
   "name": "python3"
  },
  "language_info": {
   "codemirror_mode": {
    "name": "ipython",
    "version": 3
   },
   "file_extension": ".py",
   "mimetype": "text/x-python",
   "name": "python",
   "nbconvert_exporter": "python",
   "pygments_lexer": "ipython3",
   "version": "3.8.8"
  }
 },
 "nbformat": 4,
 "nbformat_minor": 5
}
