{
 "cells": [
  {
   "cell_type": "code",
   "execution_count": 6,
   "id": "6803daa9",
   "metadata": {},
   "outputs": [
    {
     "name": "stdout",
     "output_type": "stream",
     "text": [
      "Enter the value: 7\n",
      "Fibonacci Series:  0 1 1 2 3 5 8 "
     ]
    }
   ],
   "source": [
    "#python program to print fibonacci series\n",
    "n = int(input(\"Enter the value: \"))\n",
    "a = 0\n",
    "b = 1\n",
    "sum = 0\n",
    "count = 1\n",
    "print(\"Fibonacci Series: \", end = \" \")\n",
    "while(count <= n):\n",
    "  print(sum, end = \" \")\n",
    "  count += 1\n",
    "  a = b\n",
    "  b = sum\n",
    "  sum = a + b"
   ]
  },
  {
   "cell_type": "code",
   "execution_count": 7,
   "id": "d1ed3c68",
   "metadata": {},
   "outputs": [
    {
     "name": "stdout",
     "output_type": "stream",
     "text": [
      "Enter the Total Number of List Elements : 9\n",
      "Enter the Value of 1 Element: 4\n",
      "Enter the Value of 2 Element: 5\n",
      "Enter the Value of 3 Element: 7\n",
      "Enter the Value of 4 Element: -8\n",
      "Enter the Value of 5 Element: -9\n",
      "Enter the Value of 6 Element: 2\n",
      "Enter the Value of 7 Element: -7\n",
      "Enter the Value of 8 Element: 44\n",
      "Enter the Value of 9 Element: 12\n",
      "\n",
      "Original List:  [4, 5, 7, -8, -9, 2, -7, 44, 12]\n",
      "\n",
      "Element in Positive List is:  [4, 5, 7, 2, 44, 12]\n",
      "Element in Negative List is:  [-8, -9, -7]\n"
     ]
    }
   ],
   "source": [
    "#python program to print positive and negative numbers in a list\n",
    "NumList = []\n",
    "Positive = []\n",
    "Negative = []\n",
    "Number = int(input(\"Enter the Total Number of List Elements : \"))\n",
    "for i in range(1, Number + 1):\n",
    "    value = int(input(\"Enter the Value of %d Element: \" %i))\n",
    "    NumList.append(value)\n",
    "print(\"\\nOriginal List: \",NumList)\n",
    "\n",
    "for j in range(Number):\n",
    "    if(NumList[j] >= 0):\n",
    "        Positive.append(NumList[j])\n",
    "    else:\n",
    "        Negative.append(NumList[j])\n",
    "\n",
    "print(\"\\nElement in Positive List is: \", Positive)\n",
    "print(\"Element in Negative List is: \", Negative)\n"
   ]
  },
  {
   "cell_type": "code",
   "execution_count": 11,
   "id": "e3068f8c",
   "metadata": {},
   "outputs": [
    {
     "name": "stdout",
     "output_type": "stream",
     "text": [
      "1\n"
     ]
    }
   ],
   "source": [
    "#python program to count occurrences of a character in a string\n",
    "string = \"hello\" \n",
    "print(string.count(\"o\"))"
   ]
  },
  {
   "cell_type": "code",
   "execution_count": 13,
   "id": "268ccbdc",
   "metadata": {},
   "outputs": [
    {
     "name": "stdout",
     "output_type": "stream",
     "text": [
      "  ***  \n",
      " *   * \n",
      " *     \n",
      " * *** \n",
      " *   * \n",
      " *   * \n",
      "  ***  \n",
      "\n"
     ]
    }
   ],
   "source": [
    "#python program to print the pattern ‘g’\n",
    "result_str=\"\";    \n",
    "for row in range(0,7):    \n",
    "    for column in range(0,7):     \n",
    "        if ((column == 1 and row != 0 and row != 6) or ((row == 0 or row == 6) and column > 1 and column < 5) or (row == 3 and column > 2 and column < 6) or (column == 5 and row != 0 and row != 2 and row != 6)):  \n",
    "            result_str=result_str+\"*\"    \n",
    "        else:      \n",
    "            result_str=result_str+\" \"    \n",
    "    result_str=result_str+\"\\n\"    \n",
    "print(result_str);\n"
   ]
  },
  {
   "cell_type": "code",
   "execution_count": null,
   "id": "9a34e777",
   "metadata": {},
   "outputs": [],
   "source": []
  }
 ],
 "metadata": {
  "kernelspec": {
   "display_name": "Python 3",
   "language": "python",
   "name": "python3"
  },
  "language_info": {
   "codemirror_mode": {
    "name": "ipython",
    "version": 3
   },
   "file_extension": ".py",
   "mimetype": "text/x-python",
   "name": "python",
   "nbconvert_exporter": "python",
   "pygments_lexer": "ipython3",
   "version": "3.8.8"
  }
 },
 "nbformat": 4,
 "nbformat_minor": 5
}
