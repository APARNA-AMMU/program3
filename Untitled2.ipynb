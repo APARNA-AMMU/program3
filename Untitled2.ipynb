{
 "cells": [
  {
   "cell_type": "code",
   "execution_count": 2,
   "id": "a903b8db",
   "metadata": {},
   "outputs": [
    {
     "name": "stdout",
     "output_type": "stream",
     "text": [
      "enter the value: h\n",
      "h  is an alphabet\n"
     ]
    }
   ],
   "source": [
    "#python program to check whether the input character is an alphabet\n",
    "val=input(\"enter the value: \")\n",
    "if((val>='a' and val<='z') or (val>='A' and val<='Z')):\n",
    "   print(val,\" is an alphabet\")\n",
    "else:\n",
    "   print(val,\" is not an alphabet\")"
   ]
  },
  {
   "cell_type": "code",
   "execution_count": 4,
   "id": "95ee136f",
   "metadata": {},
   "outputs": [
    {
     "name": "stdout",
     "output_type": "stream",
     "text": [
      "[17, 15, 4]\n",
      "[10, 12, 9]\n",
      "[11, 13, 18]\n"
     ]
    }
   ],
   "source": [
    "#python  program to add two matrices\n",
    "X = [[12,7,3],\n",
    "    [4 ,5,6],\n",
    "    [7 ,8,9]]\n",
    " \n",
    "Y = [[5,8,1],\n",
    "    [6,7,3],\n",
    "    [4,5,9]]\n",
    " \n",
    "result = [[0,0,0],\n",
    "         [0,0,0],\n",
    "         [0,0,0]]\n",
    "for i in range(len(X)):\n",
    "   for j in range(len(X[0])):\n",
    "       result[i][j] = X[i][j] + Y[i][j]\n",
    " \n",
    "for r in result:\n",
    "   print(r)\n"
   ]
  },
  {
   "cell_type": "code",
   "execution_count": 6,
   "id": "51a21091",
   "metadata": {},
   "outputs": [
    {
     "name": "stdout",
     "output_type": "stream",
     "text": [
      "The choices are:\n",
      "1. Addition\n",
      "2. Subtraction\n",
      "3. Multiplication\n",
      "4. Division\n",
      "\n",
      "Enter your choice :3\n",
      "Enter first number: 4\n",
      "Enter second number: 6\n",
      "4 * 6 = 24\n"
     ]
    }
   ],
   "source": [
    "#python program to print simple calculator\n",
    "def add(num1, num2):\n",
    "    return num1 + num2\n",
    "def subtract(num1, num2):\n",
    "    return num1 - num2\n",
    "def multiply(num1, num2):\n",
    "    return num1 * num2\n",
    "def divide(num1, num2):\n",
    "    return num1 / num2\n",
    "print(\"The choices are:\\n\" \\\n",
    "        \"1. Addition\\n\" \\\n",
    "        \"2. Subtraction\\n\" \\\n",
    "        \"3. Multiplication\\n\" \\\n",
    "        \"4. Division\\n\") \n",
    "choice= int(input(\"Enter your choice :\"))\n",
    "  \n",
    "num1 = int(input(\"Enter first number: \"))\n",
    "num2 = int(input(\"Enter second number: \"))\n",
    "  \n",
    "if choice== 1:\n",
    "    print(num1, \"+\", num2, \"=\",add(num1, num2))\n",
    "  \n",
    "elif choice== 2:\n",
    "    print(num1, \"-\", num2, \"=\",subtract(num1, num2))\n",
    "  \n",
    "elif choice == 3:\n",
    "    print(num1, \"*\", num2, \"=\",multiply(num1, num2))\n",
    "  \n",
    "elif choice == 4:\n",
    "    print(num1, \"/\", num2, \"=\",divide(num1, num2))\n",
    "else:\n",
    "    print(\"Invalid input\")\n"
   ]
  },
  {
   "cell_type": "code",
   "execution_count": 10,
   "id": "dc3628bb",
   "metadata": {},
   "outputs": [
    {
     "name": "stdout",
     "output_type": "stream",
     "text": [
      "list is empty\n"
     ]
    }
   ],
   "source": [
    "#python program to check the list empty or not\n",
    "a=[] \n",
    "if not a:\n",
    "    print (\"list is empty\")\n",
    "else:\n",
    "    print (\"list is not empty\")"
   ]
  },
  {
   "cell_type": "code",
   "execution_count": 13,
   "id": "26666b9f",
   "metadata": {},
   "outputs": [
    {
     "name": "stdout",
     "output_type": "stream",
     "text": [
      "['MANJU', 'CHINJU', 'ANU', 'ANJU']\n"
     ]
    }
   ],
   "source": [
    "#perform reverse in list items\n",
    "list = [\"ANJU\", \"ANU\", \"CHINJU\", \"MANJU\"]\n",
    "print(list[::-1])"
   ]
  },
  {
   "cell_type": "code",
   "execution_count": null,
   "id": "44fd6993",
   "metadata": {},
   "outputs": [],
   "source": []
  }
 ],
 "metadata": {
  "kernelspec": {
   "display_name": "Python 3",
   "language": "python",
   "name": "python3"
  },
  "language_info": {
   "codemirror_mode": {
    "name": "ipython",
    "version": 3
   },
   "file_extension": ".py",
   "mimetype": "text/x-python",
   "name": "python",
   "nbconvert_exporter": "python",
   "pygments_lexer": "ipython3",
   "version": "3.8.8"
  }
 },
 "nbformat": 4,
 "nbformat_minor": 5
}
